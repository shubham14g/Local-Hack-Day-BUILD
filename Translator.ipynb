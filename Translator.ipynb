{
 "cells": [
  {
   "cell_type": "code",
   "execution_count": 9,
   "metadata": {},
   "outputs": [],
   "source": [
    "from tkinter import *\n",
    "import tkinter as tk\n",
    "from tkinter import ttk\n",
    "from PIL import ImageTk, Image\n",
    "from googletrans import Translator\n",
    "from tkinter import messagebox"
   ]
  },
  {
   "cell_type": "code",
   "execution_count": 3,
   "metadata": {},
   "outputs": [],
   "source": [
    "def translate():\n",
    "    language_1=t1.get(\"1.0\",\"end-1c\")\n",
    "    cl=choose_language.get()\n",
    "    \n",
    "    if language_1=='':\n",
    "        messagebox.showerror('Language Translator', 'Please fill the box')\n",
    "        \n",
    "    else:\n",
    "        t2.delete(1.0,'end')\n",
    "        translator=Translator()\n",
    "        output=translator.translate(language_1,dest=cl)\n",
    "        t2.insert('end',output.text)"
   ]
  },
  {
   "cell_type": "code",
   "execution_count": 4,
   "metadata": {},
   "outputs": [],
   "source": [
    "def clear():\n",
    "    t1.delete(1.0,'end')\n",
    "    t2.delete(1.0,'end')"
   ]
  },
  {
   "cell_type": "code",
   "execution_count": 10,
   "metadata": {},
   "outputs": [],
   "source": [
    "root= tk.Tk()\n",
    "root.title('Language Translator')\n",
    "root.geometry('530x330')\n",
    "root.maxsize(530,330)\n",
    "root.minsize(530,330)\n",
    "img= ImageTk.PhotoImage(Image.open('translator.png'))\n",
    "label=Label(image=img)\n",
    "label.place(x=230,y=3)\n",
    "a=tk.StringVar()\n",
    "auto_detect = ttk.Combobox(root, width=20, textvariable=a, state='readonly', font=('verdana',10,'bold'),)\n",
    "auto_detect['values']= ('Auto Detect',)\n",
    "\n",
    "auto_detect.place(x=30,y=70)\n",
    "auto_detect.current(0)\n",
    "l=tk.StringVar()\n",
    "choose_language=ttk.Combobox(root, width=20, textvariable=l,state='readonly', font=('verdana',10,'bold'))\n",
    "\n",
    "\n",
    "choose_language['values']= ('Afrikaans', 'Albanian', 'Arabic', 'Armenian', 'Azerbaijani', 'Basque', 'Belarusian', 'Bengali', 'Bosnian', 'Bulgarian',\n",
    "                           'Dutch','English','Hindi','Tamil','Zulu',)\n",
    "choose_language.place(x=290, y=70)\n",
    "choose_language.current(0)\n",
    "t1= Text(root, width=30, height=10, borderwidth=5, relief=RIDGE)\n",
    "t1.place(x=10,y=100)\n",
    "t2= Text(root, width=30, height=10, borderwidth=5, relief=RIDGE)\n",
    "t2.place(x=260,y=100)\n",
    "\n",
    "button= Button(root, text='Translate', relief=RIDGE, borderwidth=3, font=('verdana',10,'bold'), cursor='hand2', command=translate)\n",
    "button.place(x=150,y=280)\n",
    "\n",
    "clear= Button(root, text='Clear', relief=RIDGE, borderwidth=3, font=('verdana',10,'bold'), cursor='hand2', command=clear)\n",
    "clear.place(x=280,y=280)\n",
    "root.mainloop()\n"
   ]
  },
  {
   "cell_type": "code",
   "execution_count": null,
   "metadata": {},
   "outputs": [],
   "source": []
  }
 ],
 "metadata": {
  "kernelspec": {
   "display_name": "Python 3",
   "language": "python",
   "name": "python3"
  },
  "language_info": {
   "codemirror_mode": {
    "name": "ipython",
    "version": 3
   },
   "file_extension": ".py",
   "mimetype": "text/x-python",
   "name": "python",
   "nbconvert_exporter": "python",
   "pygments_lexer": "ipython3",
   "version": "3.7.3"
  }
 },
 "nbformat": 4,
 "nbformat_minor": 2
}
