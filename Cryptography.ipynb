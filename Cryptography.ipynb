{
 "cells": [
  {
   "cell_type": "code",
   "execution_count": 22,
   "metadata": {},
   "outputs": [],
   "source": [
    "from Crypto.Random import get_random_bytes"
   ]
  },
  {
   "cell_type": "code",
   "execution_count": 44,
   "metadata": {},
   "outputs": [
    {
     "name": "stdout",
     "output_type": "stream",
     "text": [
      "b'\\x82\\x0c\\x06LE\\xef4a\\xd1\\xbd\\xfa\\xe6n\\x88X\\x7f*x\\xe6\\n)Tt(V\\x8a0I\\x11>S2'\n"
     ]
    }
   ],
   "source": [
    "key = get_random_bytes(32) # 16 bytes * 8 = 128 bits (1 byte = 8 bits)\n",
    "print(key)"
   ]
  },
  {
   "cell_type": "code",
   "execution_count": 49,
   "metadata": {},
   "outputs": [],
   "source": [
    "from Crypto.Cipher import Blowfish\n",
    "\n",
    "data = b'This is a sample plaintext message to test Blowfish cipher'\n",
    "key = b'\\x82\\x0c\\x06LE\\xef4a\\xd1\\xbd\\xfa\\xe6n\\x88X\\x7f*x\\xe6\\n)Tt(V\\x8a0I\\x11>S2'\n",
    "\n",
    "cipher = Blowfish.new(key, Blowfish.MODE_EAX) # EAX mode\n",
    "ciphered_data, tag = cipher.encrypt_and_digest(data)"
   ]
  },
  {
   "cell_type": "code",
   "execution_count": 50,
   "metadata": {},
   "outputs": [
    {
     "data": {
      "text/plain": [
       "b'#\\xe4\\x7f\\r\\x1ej\\x91X\\xbd\\x9b\\xabc\\x9e\\xe8\\x03\\x18W\\xc3\\xc1\\xd2jD\\x02\\xfeL\\x96j\\xf4\\x88\\xd7\\xab\\xf1%\\xca\\x1c6Px\\xc5~n\\xd3\\xe5\\xc9\\xa8\\xda\\xa5\\xacJO\\xf8\\xe0Oj\\xfc\\x8b\\x99\\xc9'"
      ]
     },
     "execution_count": 50,
     "metadata": {},
     "output_type": "execute_result"
    }
   ],
   "source": [
    "ciphered_data"
   ]
  },
  {
   "cell_type": "code",
   "execution_count": 51,
   "metadata": {},
   "outputs": [],
   "source": [
    "cipher = Blowfish.new(key, DES.MODE_EAX, cipher.nonce)\n",
    "original_data = cipher.decrypt_and_verify(ciphered_data, tag)"
   ]
  },
  {
   "cell_type": "code",
   "execution_count": 52,
   "metadata": {},
   "outputs": [
    {
     "data": {
      "text/plain": [
       "b'This is a sample plaintext message to test Blowfish cipher'"
      ]
     },
     "execution_count": 52,
     "metadata": {},
     "output_type": "execute_result"
    }
   ],
   "source": [
    "original_data"
   ]
  },
  {
   "cell_type": "code",
   "execution_count": null,
   "metadata": {},
   "outputs": [],
   "source": []
  }
 ],
 "metadata": {
  "kernelspec": {
   "display_name": "Python 3",
   "language": "python",
   "name": "python3"
  },
  "language_info": {
   "codemirror_mode": {
    "name": "ipython",
    "version": 3
   },
   "file_extension": ".py",
   "mimetype": "text/x-python",
   "name": "python",
   "nbconvert_exporter": "python",
   "pygments_lexer": "ipython3",
   "version": "3.7.3"
  }
 },
 "nbformat": 4,
 "nbformat_minor": 2
}
